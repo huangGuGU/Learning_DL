{
 "cells": [
  {
   "cell_type": "code",
   "execution_count": 12,
   "metadata": {},
   "outputs": [],
   "source": [
    "import torch\n",
    "import torch.nn as nn\n",
    "\n",
    "\n",
    "class TestForHook(nn.Module):\n",
    "    def __init__(self):\n",
    "        super().__init__()\n",
    "\n",
    "        self.linear_1 = nn.Linear(in_features=2, out_features=2)\n",
    "        self.linear_2 = nn.Linear(in_features=2, out_features=1)\n",
    "        self.relu = nn.ReLU()\n",
    "        self.relu6 = nn.ReLU6()\n",
    "        self.initialize()\n",
    "\n",
    "    def forward(self, x):\n",
    "        linear_1 = self.linear_1(x)\n",
    "        linear_2 = self.linear_2(linear_1)\n",
    "        relu = self.relu(linear_2)\n",
    "        relu_6 = self.relu6(relu)\n",
    "        layers_in = (x, linear_1, linear_2)\n",
    "        layers_out = (linear_1, linear_2, relu)\n",
    "        return relu_6, layers_in, layers_out\n",
    "\n",
    "    def initialize(self):\n",
    "        \"\"\" 定义特殊的初始化，用于验证是不是获取了权重\"\"\"\n",
    "        self.linear_1.weight = torch.nn.Parameter(torch.FloatTensor([[1, 1], [1, 1]]))\n",
    "        self.linear_1.bias = torch.nn.Parameter(torch.FloatTensor([1, 1]))\n",
    "        self.linear_2.weight = torch.nn.Parameter(torch.FloatTensor([[1, 1]]))\n",
    "        self.linear_2.bias = torch.nn.Parameter(torch.FloatTensor([1]))\n",
    "        return True\n",
    "\n",
    "# 1：定义用于获取网络各层输入输出tensor的容器\n",
    "# 并定义module_name用于记录相应的module名字\n",
    "module_name = []\n",
    "features_in_hook = []\n",
    "features_out_hook = []\n",
    "\n",
    "\n",
    "# 2：hook函数负责将获取的输入输出添加到feature列表中\n",
    "# 并提供相应的module名字\n",
    "def hook(module, fea_in, fea_out):\n",
    "    print(\"hooker working\")\n",
    "    module_name.append(module.__class__)\n",
    "    features_in_hook.append(fea_in)\n",
    "    features_out_hook.append(fea_out)\n",
    "    return None\n",
    "\n",
    "# 3：定义全部是1的输入\n",
    "x = torch.FloatTensor([[0.1, 0.1], [0.1, 0.1]])\n",
    "\n",
    "# 4:注册钩子可以对某些层单独进行\n",
    "net = TestForHook()\n",
    "net_chilren = net.children()\n",
    "for child in net_chilren:\n",
    "    if not isinstance(child, nn.ReLU6):\n",
    "        child.register_forward_hook(hook=hook)"
   ]
  },
  {
   "cell_type": "code",
   "execution_count": 13,
   "metadata": {},
   "outputs": [
    {
     "name": "stdout",
     "output_type": "stream",
     "text": [
      "hooker working\n",
      "hooker working\n",
      "hooker working\n",
      "*****forward return features*****\n",
      "(tensor([[0.1000, 0.1000],\n",
      "        [0.1000, 0.1000]]), tensor([[1.2000, 1.2000],\n",
      "        [1.2000, 1.2000]], grad_fn=<AddmmBackward0>), tensor([[3.4000],\n",
      "        [3.4000]], grad_fn=<AddmmBackward0>))\n",
      "(tensor([[1.2000, 1.2000],\n",
      "        [1.2000, 1.2000]], grad_fn=<AddmmBackward0>), tensor([[3.4000],\n",
      "        [3.4000]], grad_fn=<AddmmBackward0>), tensor([[3.4000],\n",
      "        [3.4000]], grad_fn=<ReluBackward0>))\n",
      "*****forward return features*****\n"
     ]
    }
   ],
   "source": [
    "\n",
    "\n",
    "# 5:测试网络输出\n",
    "out, features_in_forward, features_out_forward = net(x)\n",
    "print(\"*\"*5+\"forward return features\"+\"*\"*5)\n",
    "print(features_in_forward)\n",
    "print(features_out_forward)\n",
    "print(\"*\"*5+\"forward return features\"+\"*\"*5)"
   ]
  },
  {
   "cell_type": "code",
   "execution_count": 14,
   "metadata": {},
   "outputs": [
    {
     "name": "stdout",
     "output_type": "stream",
     "text": [
      "*****hook record features*****\n",
      "[(tensor([[0.1000, 0.1000],\n",
      "        [0.1000, 0.1000]]),), (tensor([[1.2000, 1.2000],\n",
      "        [1.2000, 1.2000]], grad_fn=<AddmmBackward0>),), (tensor([[3.4000],\n",
      "        [3.4000]], grad_fn=<AddmmBackward0>),)]\n",
      "[tensor([[1.2000, 1.2000],\n",
      "        [1.2000, 1.2000]], grad_fn=<AddmmBackward0>), tensor([[3.4000],\n",
      "        [3.4000]], grad_fn=<AddmmBackward0>), tensor([[3.4000],\n",
      "        [3.4000]], grad_fn=<ReluBackward0>)]\n",
      "[<class 'torch.nn.modules.linear.Linear'>, <class 'torch.nn.modules.linear.Linear'>, <class 'torch.nn.modules.activation.ReLU'>]\n",
      "*****hook record features*****\n"
     ]
    }
   ],
   "source": [
    "\n",
    "# 6:测试features_in是不是存储了输入\n",
    "print(\"*\"*5+\"hook record features\"+\"*\"*5)\n",
    "print(features_in_hook)\n",
    "print(features_out_hook)\n",
    "print(module_name)\n",
    "print(\"*\"*5+\"hook record features\"+\"*\"*5)\n"
   ]
  },
  {
   "cell_type": "code",
   "execution_count": 11,
   "metadata": {},
   "outputs": [
    {
     "name": "stdout",
     "output_type": "stream",
     "text": [
      "sub result\n",
      "tensor([[0., 0.],\n",
      "        [0., 0.]])\n",
      "tensor([[0., 0.],\n",
      "        [0., 0.]], grad_fn=<SubBackward0>)\n",
      "tensor([[0.],\n",
      "        [0.]], grad_fn=<SubBackward0>)\n"
     ]
    }
   ],
   "source": [
    "# 7：测试forward返回的feautes_in是不是和hook记录的一致\n",
    "print(\"sub result\")\n",
    "for forward_return, hook_record in zip(features_in_forward, features_in_hook):\n",
    "    print(forward_return-hook_record[0])"
   ]
  }
 ],
 "metadata": {
  "interpreter": {
   "hash": "4d3128507b5a4621a20c2b29f37ac078f0ce925796d459584332777f346d4420"
  },
  "kernelspec": {
   "display_name": "Python 3.8.6 ('tfpy39')",
   "language": "python",
   "name": "python3"
  },
  "language_info": {
   "codemirror_mode": {
    "name": "ipython",
    "version": 3
   },
   "file_extension": ".py",
   "mimetype": "text/x-python",
   "name": "python",
   "nbconvert_exporter": "python",
   "pygments_lexer": "ipython3",
   "version": "3.8.6"
  },
  "orig_nbformat": 4
 },
 "nbformat": 4,
 "nbformat_minor": 2
}
