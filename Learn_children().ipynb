{
 "cells": [
  {
   "cell_type": "code",
   "execution_count": 2,
   "metadata": {},
   "outputs": [
    {
     "name": "stdout",
     "output_type": "stream",
     "text": [
      "<bound method Module.children of Sequential(\n",
      "  (0): Linear(in_features=2, out_features=2, bias=True)\n",
      "  (1): ReLU()\n",
      "  (2): Sequential(\n",
      "    (0): Sigmoid()\n",
      "    (1): ReLU()\n",
      "  )\n",
      ")>\n"
     ]
    }
   ],
   "source": [
    "import torch\n",
    "from torch import nn\n",
    "\n",
    "\n",
    "models = nn.Sequential(nn.Linear(2,2),\n",
    "                       nn.ReLU(),\n",
    "                       nn.Sequential(nn.Sigmoid(),\n",
    "                                     nn.ReLU()))\n",
    "\n"
   ]
  },
  {
   "cell_type": "code",
   "execution_count": 16,
   "metadata": {},
   "outputs": [
    {
     "name": "stdout",
     "output_type": "stream",
     "text": [
      "1 Linear(in_features=2, out_features=2, bias=True)\n",
      "2 ReLU()\n",
      "3 Sequential(\n",
      "  (0): Sigmoid()\n",
      "  (1): ReLU()\n",
      ")\n"
     ]
    }
   ],
   "source": [
    "for index ,i in enumerate (models.children()):\n",
    "    print(index+1 ,i)"
   ]
  },
  {
   "cell_type": "code",
   "execution_count": 15,
   "metadata": {},
   "outputs": [
    {
     "name": "stdout",
     "output_type": "stream",
     "text": [
      "1 Sequential(\n",
      "  (0): Linear(in_features=2, out_features=2, bias=True)\n",
      "  (1): ReLU()\n",
      "  (2): Sequential(\n",
      "    (0): Sigmoid()\n",
      "    (1): ReLU()\n",
      "  )\n",
      ")\n",
      "2 Linear(in_features=2, out_features=2, bias=True)\n",
      "3 ReLU()\n",
      "4 Sequential(\n",
      "  (0): Sigmoid()\n",
      "  (1): ReLU()\n",
      ")\n",
      "5 Sigmoid()\n",
      "6 ReLU()\n"
     ]
    }
   ],
   "source": [
    "for index ,j in enumerate( models.modules()):\n",
    "    print(index+1 , j)"
   ]
  },
  {
   "cell_type": "code",
   "execution_count": 12,
   "metadata": {},
   "outputs": [
    {
     "name": "stdout",
     "output_type": "stream",
     "text": [
      "<bound method Module.modules of Sequential(\n",
      "  (0): Linear(in_features=2, out_features=2, bias=True)\n",
      "  (1): ReLU()\n",
      "  (2): Sequential(\n",
      "    (0): Sigmoid()\n",
      "    (1): ReLU()\n",
      "  )\n",
      ")>\n"
     ]
    }
   ],
   "source": [
    "print(models.modules)"
   ]
  },
  {
   "cell_type": "code",
   "execution_count": 17,
   "metadata": {},
   "outputs": [
    {
     "name": "stdout",
     "output_type": "stream",
     "text": [
      "0 Sequential(\n",
      "  (0): Linear(in_features=2, out_features=2, bias=True)\n",
      "  (1): Linear(in_features=2, out_features=2, bias=True)\n",
      ")\n",
      "1 Linear(in_features=2, out_features=2, bias=True)\n"
     ]
    }
   ],
   "source": [
    "\n",
    "l = nn.Linear(2, 2)\n",
    "net = nn.Sequential(l, l)\n",
    "for idx, m in enumerate(net.modules()):\n",
    "    print(idx, m)\n",
    "\n",
    "\n"
   ]
  },
  {
   "cell_type": "code",
   "execution_count": 18,
   "metadata": {},
   "outputs": [
    {
     "name": "stdout",
     "output_type": "stream",
     "text": [
      "0 Sequential(\n",
      "  (0): Linear(in_features=2, out_features=2, bias=True)\n",
      "  (1): Linear(in_features=2, out_features=2, bias=True)\n",
      ")\n",
      "1 Linear(in_features=2, out_features=2, bias=True)\n",
      "2 Linear(in_features=2, out_features=2, bias=True)\n"
     ]
    }
   ],
   "source": [
    "net1=nn.Sequential(nn.Linear(2, 2), nn.Linear(2, 2))\n",
    "for idx, m in enumerate(net1.modules()):\n",
    "    print(idx, m)\n",
    "\n",
    "\n",
    "#例子1中的l = nn.Linear(2, 2)是重复的模块，有单独的命名，是类nn.Linear()的一个固定实例，\n",
    "#而例子2中的nn.Linear(2, 2)不是重复的模块，估计是看成类nn.Linear()不同的实例了。"
   ]
  },
  {
   "cell_type": "code",
   "execution_count": null,
   "metadata": {},
   "outputs": [],
   "source": []
  }
 ],
 "metadata": {
  "interpreter": {
   "hash": "4d3128507b5a4621a20c2b29f37ac078f0ce925796d459584332777f346d4420"
  },
  "kernelspec": {
   "display_name": "Python 3.8.6 ('tfpy39')",
   "language": "python",
   "name": "python3"
  },
  "language_info": {
   "codemirror_mode": {
    "name": "ipython",
    "version": 3
   },
   "file_extension": ".py",
   "mimetype": "text/x-python",
   "name": "python",
   "nbconvert_exporter": "python",
   "pygments_lexer": "ipython3",
   "version": "3.8.6"
  },
  "orig_nbformat": 4
 },
 "nbformat": 4,
 "nbformat_minor": 2
}
