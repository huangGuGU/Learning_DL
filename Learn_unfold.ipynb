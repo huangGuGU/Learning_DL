{
 "cells": [
  {
   "cell_type": "code",
   "execution_count": 1,
   "metadata": {},
   "outputs": [],
   "source": [
    "import torch\n",
    "import torch.nn.functional as F"
   ]
  },
  {
   "cell_type": "code",
   "execution_count": 2,
   "metadata": {},
   "outputs": [
    {
     "data": {
      "text/plain": [
       "tensor([[[ 1.,  2.,  3.,  6.,  7.,  8., 11., 12., 13.],\n",
       "         [ 2.,  3.,  4.,  7.,  8.,  9., 12., 13., 14.],\n",
       "         [ 3.,  4.,  5.,  8.,  9., 10., 13., 14., 15.],\n",
       "         [ 6.,  7.,  8., 11., 12., 13., 16., 17., 18.],\n",
       "         [ 7.,  8.,  9., 12., 13., 14., 17., 18., 19.],\n",
       "         [ 8.,  9., 10., 13., 14., 15., 18., 19., 20.],\n",
       "         [11., 12., 13., 16., 17., 18., 21., 22., 23.],\n",
       "         [12., 13., 14., 17., 18., 19., 22., 23., 24.],\n",
       "         [13., 14., 15., 18., 19., 20., 23., 24., 25.]]])"
      ]
     },
     "execution_count": 2,
     "metadata": {},
     "output_type": "execute_result"
    }
   ],
   "source": [
    "x = torch.Tensor([[[[  1,  2,  3,  4,  5],\n",
    "   \t\t\t\t\t[  6,  7,  8,  9, 10],\n",
    "   \t\t\t\t\t[ 11, 12, 13, 14, 15],\n",
    "   \t\t\t\t\t[ 16, 17, 18, 19, 20],\n",
    "   \t\t\t\t\t[ 21, 22, 23, 24, 25]]]])\n",
    "y = F.unfold(x,(3,3))\n",
    "y"
   ]
  },
  {
   "cell_type": "code",
   "execution_count": 3,
   "metadata": {},
   "outputs": [
    {
     "data": {
      "text/plain": [
       "tensor([[[ 1.,  2.,  3.,  4.,  6.,  7.,  8.,  9., 11., 12., 13., 14., 16., 17.,\n",
       "          18., 19.],\n",
       "         [ 2.,  3.,  4.,  5.,  7.,  8.,  9., 10., 12., 13., 14., 15., 17., 18.,\n",
       "          19., 20.],\n",
       "         [ 6.,  7.,  8.,  9., 11., 12., 13., 14., 16., 17., 18., 19., 21., 22.,\n",
       "          23., 24.],\n",
       "         [ 7.,  8.,  9., 10., 12., 13., 14., 15., 17., 18., 19., 20., 22., 23.,\n",
       "          24., 25.]]])"
      ]
     },
     "execution_count": 3,
     "metadata": {},
     "output_type": "execute_result"
    }
   ],
   "source": [
    "y = F.unfold(x,(2,2))\n",
    "y"
   ]
  },
  {
   "cell_type": "code",
   "execution_count": 4,
   "metadata": {},
   "outputs": [
    {
     "data": {
      "text/plain": [
       "tensor([[[ 1.,  2.,  6.,  7.],\n",
       "         [ 2.,  3.,  7.,  8.],\n",
       "         [ 3.,  4.,  8.,  9.],\n",
       "         [ 4.,  5.,  9., 10.],\n",
       "         [ 6.,  7., 11., 12.],\n",
       "         [ 7.,  8., 12., 13.],\n",
       "         [ 8.,  9., 13., 14.],\n",
       "         [ 9., 10., 14., 15.],\n",
       "         [11., 12., 16., 17.],\n",
       "         [12., 13., 17., 18.],\n",
       "         [13., 14., 18., 19.],\n",
       "         [14., 15., 19., 20.],\n",
       "         [16., 17., 21., 22.],\n",
       "         [17., 18., 22., 23.],\n",
       "         [18., 19., 23., 24.],\n",
       "         [19., 20., 24., 25.]]])"
      ]
     },
     "execution_count": 4,
     "metadata": {},
     "output_type": "execute_result"
    }
   ],
   "source": [
    "y = F.unfold(x,(4,4))\n",
    "y"
   ]
  },
  {
   "cell_type": "code",
   "execution_count": null,
   "metadata": {},
   "outputs": [],
   "source": []
  }
 ],
 "metadata": {
  "kernelspec": {
   "display_name": "Python 3.8.6 64-bit ('tfpy39')",
   "language": "python",
   "name": "python3"
  },
  "language_info": {
   "codemirror_mode": {
    "name": "ipython",
    "version": 3
   },
   "file_extension": ".py",
   "mimetype": "text/x-python",
   "name": "python",
   "nbconvert_exporter": "python",
   "pygments_lexer": "ipython3",
   "version": "3.8.6"
  },
  "orig_nbformat": 4,
  "vscode": {
   "interpreter": {
    "hash": "7c98f917436e91ad7f0c3d4f5d9b3df817d2512acd5c63c803caddd09106776b"
   }
  }
 },
 "nbformat": 4,
 "nbformat_minor": 2
}
